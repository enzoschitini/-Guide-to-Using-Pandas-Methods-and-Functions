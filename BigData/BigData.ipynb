{
 "cells": [
  {
   "cell_type": "code",
   "execution_count": 17,
   "metadata": {},
   "outputs": [],
   "source": [
    "import pandas as pd\n",
    "pd.set_option('display.max_columns', None)\n",
    "pd.set_option('display.max_rows', None)"
   ]
  },
  {
   "cell_type": "code",
   "execution_count": 18,
   "metadata": {},
   "outputs": [
    {
     "data": {
      "text/html": [
       "<div>\n",
       "<style scoped>\n",
       "    .dataframe tbody tr th:only-of-type {\n",
       "        vertical-align: middle;\n",
       "    }\n",
       "\n",
       "    .dataframe tbody tr th {\n",
       "        vertical-align: top;\n",
       "    }\n",
       "\n",
       "    .dataframe thead th {\n",
       "        text-align: right;\n",
       "    }\n",
       "</style>\n",
       "<table border=\"1\" class=\"dataframe\">\n",
       "  <thead>\n",
       "    <tr style=\"text-align: right;\">\n",
       "      <th></th>\n",
       "      <th>order_id</th>\n",
       "      <th>customer_state</th>\n",
       "      <th>product_category_name</th>\n",
       "      <th>product_weight_g</th>\n",
       "      <th>review_score</th>\n",
       "      <th>price</th>\n",
       "      <th>freight_value</th>\n",
       "      <th>payment_value</th>\n",
       "      <th>order_approved_at</th>\n",
       "      <th>order_purchase_timestamp</th>\n",
       "    </tr>\n",
       "  </thead>\n",
       "  <tbody>\n",
       "    <tr>\n",
       "      <th>0</th>\n",
       "      <td>00010242fe8c5a6d1ba2dd792cb16214</td>\n",
       "      <td>RJ</td>\n",
       "      <td>cool_stuff</td>\n",
       "      <td>650.0</td>\n",
       "      <td>5</td>\n",
       "      <td>58.9</td>\n",
       "      <td>13.29</td>\n",
       "      <td>72.19</td>\n",
       "      <td>2017-09-13 09:45:35</td>\n",
       "      <td>2017-09-13 08:59:02</td>\n",
       "    </tr>\n",
       "    <tr>\n",
       "      <th>1</th>\n",
       "      <td>130898c0987d1801452a8ed92a670612</td>\n",
       "      <td>GO</td>\n",
       "      <td>cool_stuff</td>\n",
       "      <td>650.0</td>\n",
       "      <td>5</td>\n",
       "      <td>55.9</td>\n",
       "      <td>17.96</td>\n",
       "      <td>73.86</td>\n",
       "      <td>2017-06-29 02:44:11</td>\n",
       "      <td>2017-06-28 11:52:20</td>\n",
       "    </tr>\n",
       "    <tr>\n",
       "      <th>2</th>\n",
       "      <td>532ed5e14e24ae1f0d735b91524b98b9</td>\n",
       "      <td>MG</td>\n",
       "      <td>cool_stuff</td>\n",
       "      <td>650.0</td>\n",
       "      <td>4</td>\n",
       "      <td>64.9</td>\n",
       "      <td>18.33</td>\n",
       "      <td>83.23</td>\n",
       "      <td>2018-05-18 12:31:43</td>\n",
       "      <td>2018-05-18 10:25:53</td>\n",
       "    </tr>\n",
       "    <tr>\n",
       "      <th>3</th>\n",
       "      <td>6f8c31653edb8c83e1a739408b5ff750</td>\n",
       "      <td>PR</td>\n",
       "      <td>cool_stuff</td>\n",
       "      <td>650.0</td>\n",
       "      <td>5</td>\n",
       "      <td>58.9</td>\n",
       "      <td>16.17</td>\n",
       "      <td>75.07</td>\n",
       "      <td>2017-08-01 18:55:08</td>\n",
       "      <td>2017-08-01 18:38:42</td>\n",
       "    </tr>\n",
       "    <tr>\n",
       "      <th>4</th>\n",
       "      <td>7d19f4ef4d04461989632411b7e588b9</td>\n",
       "      <td>MG</td>\n",
       "      <td>cool_stuff</td>\n",
       "      <td>650.0</td>\n",
       "      <td>5</td>\n",
       "      <td>58.9</td>\n",
       "      <td>13.29</td>\n",
       "      <td>72.19</td>\n",
       "      <td>2017-08-10 22:05:11</td>\n",
       "      <td>2017-08-10 21:48:40</td>\n",
       "    </tr>\n",
       "  </tbody>\n",
       "</table>\n",
       "</div>"
      ],
      "text/plain": [
       "                           order_id customer_state product_category_name  \\\n",
       "0  00010242fe8c5a6d1ba2dd792cb16214             RJ            cool_stuff   \n",
       "1  130898c0987d1801452a8ed92a670612             GO            cool_stuff   \n",
       "2  532ed5e14e24ae1f0d735b91524b98b9             MG            cool_stuff   \n",
       "3  6f8c31653edb8c83e1a739408b5ff750             PR            cool_stuff   \n",
       "4  7d19f4ef4d04461989632411b7e588b9             MG            cool_stuff   \n",
       "\n",
       "   product_weight_g  review_score  price  freight_value  payment_value  \\\n",
       "0             650.0             5   58.9          13.29          72.19   \n",
       "1             650.0             5   55.9          17.96          73.86   \n",
       "2             650.0             4   64.9          18.33          83.23   \n",
       "3             650.0             5   58.9          16.17          75.07   \n",
       "4             650.0             5   58.9          13.29          72.19   \n",
       "\n",
       "     order_approved_at order_purchase_timestamp  \n",
       "0  2017-09-13 09:45:35      2017-09-13 08:59:02  \n",
       "1  2017-06-29 02:44:11      2017-06-28 11:52:20  \n",
       "2  2018-05-18 12:31:43      2018-05-18 10:25:53  \n",
       "3  2017-08-01 18:55:08      2017-08-01 18:38:42  \n",
       "4  2017-08-10 22:05:11      2017-08-10 21:48:40  "
      ]
     },
     "execution_count": 18,
     "metadata": {},
     "output_type": "execute_result"
    }
   ],
   "source": [
    "df = pd.read_csv('https://raw.githubusercontent.com/enzoschitini/Guide-to-Using-Pandas/refs/heads/main/pandas_csv_guide.csv').drop(columns='Unnamed: 0')\n",
    "# delimiter = ';', encoding = \"ISO-8859-1\"\n",
    "df.head()"
   ]
  },
  {
   "cell_type": "code",
   "execution_count": 19,
   "metadata": {},
   "outputs": [
    {
     "data": {
      "text/plain": [
       "(2022, 10)"
      ]
     },
     "execution_count": 19,
     "metadata": {},
     "output_type": "execute_result"
    }
   ],
   "source": [
    "df.shape"
   ]
  },
  {
   "cell_type": "code",
   "execution_count": 20,
   "metadata": {},
   "outputs": [
    {
     "name": "stdout",
     "output_type": "stream",
     "text": [
      "<class 'pandas.core.frame.DataFrame'>\n",
      "RangeIndex: 2022 entries, 0 to 2021\n",
      "Data columns (total 10 columns):\n",
      " #   Column                    Non-Null Count  Dtype  \n",
      "---  ------                    --------------  -----  \n",
      " 0   order_id                  2022 non-null   object \n",
      " 1   customer_state            2022 non-null   object \n",
      " 2   product_category_name     2022 non-null   object \n",
      " 3   product_weight_g          2022 non-null   float64\n",
      " 4   review_score              2022 non-null   int64  \n",
      " 5   price                     2022 non-null   float64\n",
      " 6   freight_value             2022 non-null   float64\n",
      " 7   payment_value             2022 non-null   float64\n",
      " 8   order_approved_at         2022 non-null   object \n",
      " 9   order_purchase_timestamp  2022 non-null   object \n",
      "dtypes: float64(4), int64(1), object(5)\n",
      "memory usage: 158.1+ KB\n"
     ]
    }
   ],
   "source": [
    "df.info()"
   ]
  },
  {
   "cell_type": "code",
   "execution_count": null,
   "metadata": {},
   "outputs": [],
   "source": [
    "def metrics_memory(df):\n",
    "    # Vamos avaliar quanto está sendo usado da memória do nosso computador para cada variável\n",
    "    # Importante: Usar o deep = True para que seja feito uma analise profunda e traga realmente as informações precisas\n",
    "    memoria = df.memory_usage(deep = True) \n",
    "    memoria_consumo_total = memoria.sum()\n",
    "\n",
    "    # Vamos achar a quantidade em Gb (GigaBytes) que está sendo utilizado da nossa RAM\n",
    "    # Temos a informação em Bytes, então precisamos converter até chegar em GigaBytes\n",
    "\n",
    "    # 1.024 Bytes = 1 Kb\n",
    "    # 1.024 Kb = 1 Mb\n",
    "    # 1.024 Mb = 1 Gb\n",
    "\n",
    "    # Então faremos a quantidade dos valores dividido por 1024 ao cubo\n",
    "    Memoria_Mb = memoria_consumo_total / (1024 ** 2)\n",
    "    Memoria_Gb = memoria_consumo_total / (1024 ** 3)\n",
    "\n",
    "    percentual = (memoria / memoria_consumo_total * 100) #/ (1024 ** 2)\n",
    "\n",
    "    return memoria, memoria_consumo_total, Memoria_Mb, Memoria_Gb, percentual\n",
    "\n",
    "metrics_memory(df)[0]"
   ]
  },
  {
   "cell_type": "code",
   "execution_count": 21,
   "metadata": {},
   "outputs": [],
   "source": [
    "# Vamos avaliar quanto está sendo usado da memória do nosso computador para cada variável\n",
    "# Importante: Usar o deep = True para que seja feito uma analise profunda e traga realmente as informações precisas\n",
    "memoria = df.memory_usage(deep = True)    "
   ]
  },
  {
   "cell_type": "code",
   "execution_count": 22,
   "metadata": {},
   "outputs": [
    {
     "data": {
      "text/plain": [
       "Index                          132\n",
       "order_id                    163782\n",
       "customer_state              103122\n",
       "product_category_name       121695\n",
       "product_weight_g             16176\n",
       "review_score                 16176\n",
       "price                        16176\n",
       "freight_value                16176\n",
       "payment_value                16176\n",
       "order_approved_at           137496\n",
       "order_purchase_timestamp    137496\n",
       "dtype: int64"
      ]
     },
     "execution_count": 22,
     "metadata": {},
     "output_type": "execute_result"
    }
   ],
   "source": [
    "memoria"
   ]
  },
  {
   "cell_type": "code",
   "execution_count": 23,
   "metadata": {},
   "outputs": [
    {
     "data": {
      "text/plain": [
       "744603"
      ]
     },
     "execution_count": 23,
     "metadata": {},
     "output_type": "execute_result"
    }
   ],
   "source": [
    "memoria.sum()"
   ]
  },
  {
   "cell_type": "code",
   "execution_count": 24,
   "metadata": {},
   "outputs": [
    {
     "data": {
      "text/plain": [
       "0.0006934655830264091"
      ]
     },
     "execution_count": 24,
     "metadata": {},
     "output_type": "execute_result"
    }
   ],
   "source": [
    "# Vamos achar a quantidade em Gb (GigaBytes) que está sendo utilizado da nossa RAM\n",
    "# Temos a informação em Bytes, então precisamos converter até chegar em GigaBytes\n",
    "\n",
    "# 1.024 Bytes = 1 Kb\n",
    "# 1.024 Kb = 1 Mb\n",
    "# 1.024 Mb = 1 Gb\n",
    "\n",
    "# Então faremos a quantidade dos valores dividido por 1024 ao cubo\n",
    "Memoria_Gb = memoria.sum() / (1024 ** 3)\n",
    "Memoria_Gb"
   ]
  },
  {
   "cell_type": "code",
   "execution_count": 25,
   "metadata": {},
   "outputs": [
    {
     "data": {
      "text/plain": [
       "Index                        0.017728\n",
       "order_id                    21.995882\n",
       "customer_state              13.849259\n",
       "product_category_name       16.343609\n",
       "product_weight_g             2.172433\n",
       "review_score                 2.172433\n",
       "price                        2.172433\n",
       "freight_value                2.172433\n",
       "payment_value                2.172433\n",
       "order_approved_at           18.465679\n",
       "order_purchase_timestamp    18.465679\n",
       "dtype: float64"
      ]
     },
     "execution_count": 25,
     "metadata": {},
     "output_type": "execute_result"
    }
   ],
   "source": [
    "# Avaliando o percentual de cada coluna\n",
    "memoria / memoria.sum() * 100"
   ]
  },
  {
   "cell_type": "code",
   "execution_count": 26,
   "metadata": {},
   "outputs": [],
   "source": [
    "# Vamos converter as outras variaves que analisamos para o tipo categorico\n",
    "df[\"order_id\"] = df[\"order_id\"].astype(\"category\")\n",
    "df[\"customer_state\"] = df[\"customer_state\"].astype(\"category\")\n",
    "df[\"product_category_name\"] = df[\"product_category_name\"].astype(\"category\")"
   ]
  },
  {
   "cell_type": "code",
   "execution_count": 27,
   "metadata": {},
   "outputs": [
    {
     "name": "stdout",
     "output_type": "stream",
     "text": [
      "<class 'pandas.core.frame.DataFrame'>\n",
      "RangeIndex: 2022 entries, 0 to 2021\n",
      "Data columns (total 10 columns):\n",
      " #   Column                    Non-Null Count  Dtype   \n",
      "---  ------                    --------------  -----   \n",
      " 0   order_id                  2022 non-null   category\n",
      " 1   customer_state            2022 non-null   category\n",
      " 2   product_category_name     2022 non-null   category\n",
      " 3   product_weight_g          2022 non-null   float64 \n",
      " 4   review_score              2022 non-null   int64   \n",
      " 5   price                     2022 non-null   float64 \n",
      " 6   freight_value             2022 non-null   float64 \n",
      " 7   payment_value             2022 non-null   float64 \n",
      " 8   order_approved_at         2022 non-null   object  \n",
      " 9   order_purchase_timestamp  2022 non-null   object  \n",
      "dtypes: category(3), float64(4), int64(1), object(2)\n",
      "memory usage: 198.7+ KB\n"
     ]
    }
   ],
   "source": [
    "df.info()"
   ]
  },
  {
   "cell_type": "code",
   "execution_count": 28,
   "metadata": {},
   "outputs": [
    {
     "data": {
      "text/plain": [
       "0.0005355514585971832"
      ]
     },
     "execution_count": 28,
     "metadata": {},
     "output_type": "execute_result"
    }
   ],
   "source": [
    "# Vamos avaliar novamente nossa memória\n",
    "memoria = df.memory_usage(deep = True)  \n",
    "Memoria_Gb2 = memoria.sum() / (1024 ** 3)\n",
    "Memoria_Gb2"
   ]
  },
  {
   "cell_type": "code",
   "execution_count": 29,
   "metadata": {},
   "outputs": [
    {
     "name": "stdout",
     "output_type": "stream",
     "text": [
      "0.0006934655830264091\n",
      "0.0005355514585971832\n"
     ]
    }
   ],
   "source": [
    "# Utilização da memória\n",
    "print (Memoria_Gb)\n",
    "print (Memoria_Gb2)"
   ]
  },
  {
   "cell_type": "code",
   "execution_count": 30,
   "metadata": {},
   "outputs": [
    {
     "data": {
      "text/plain": [
       "22.77"
      ]
     },
     "execution_count": 30,
     "metadata": {},
     "output_type": "execute_result"
    }
   ],
   "source": [
    "# Percentual de Redução\n",
    "round(100 - (Memoria_Gb2 / Memoria_Gb * 100), 2)"
   ]
  }
 ],
 "metadata": {
  "kernelspec": {
   "display_name": "Python 3",
   "language": "python",
   "name": "python3"
  },
  "language_info": {
   "codemirror_mode": {
    "name": "ipython",
    "version": 3
   },
   "file_extension": ".py",
   "mimetype": "text/x-python",
   "name": "python",
   "nbconvert_exporter": "python",
   "pygments_lexer": "ipython3",
   "version": "3.12.6"
  }
 },
 "nbformat": 4,
 "nbformat_minor": 2
}
