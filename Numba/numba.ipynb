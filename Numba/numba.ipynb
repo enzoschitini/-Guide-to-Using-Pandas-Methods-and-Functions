{
 "cells": [
  {
   "cell_type": "markdown",
   "metadata": {},
   "source": [
    "### Numba: **Introduzione a Numba: Ottimizzazione delle Funzioni in Python con `jit` e `njit`**\n",
    "\n",
    "### 1. Introduzione\n",
    "\n",
    "- Breve spiegazione di cosa sia `Numba` e come viene utilizzato per accelerare il codice Python.\n",
    "- Differenza tra `jit` e `njit`.\n",
    "\n",
    "### 2. Installazione di Numba (opzionale)"
   ]
  },
  {
   "cell_type": "code",
   "execution_count": 1,
   "metadata": {},
   "outputs": [],
   "source": [
    "# Se non installato, utilizzare il seguente comando:\n",
    "# !pip install numba"
   ]
  },
  {
   "cell_type": "markdown",
   "metadata": {},
   "source": [
    "### 3. Importazione di Numba"
   ]
  },
  {
   "cell_type": "code",
   "execution_count": 2,
   "metadata": {},
   "outputs": [],
   "source": [
    "from numba import jit, njit\n",
    "import numpy as np\n",
    "import time"
   ]
  },
  {
   "cell_type": "markdown",
   "metadata": {},
   "source": [
    "### 4. Creazione di una Funzione Python \"Normale\"\n",
    "\n",
    "- Creare una funzione semplice che richiede molto tempo per essere eseguita."
   ]
  },
  {
   "cell_type": "code",
   "execution_count": 3,
   "metadata": {},
   "outputs": [],
   "source": [
    "def funzione_normale(x):\n",
    "    somma = 0\n",
    "    for i in range(x):\n",
    "        somma += i ** 2\n",
    "    return somma"
   ]
  },
  {
   "cell_type": "markdown",
   "metadata": {},
   "source": [
    "- Testare la funzione e misurare il tempo di esecuzione."
   ]
  },
  {
   "cell_type": "code",
   "execution_count": 4,
   "metadata": {},
   "outputs": [
    {
     "name": "stdout",
     "output_type": "stream",
     "text": [
      "Risultato: 485832981648534546490464, Tempo di esecuzione: 10.24960 secondi\n"
     ]
    }
   ],
   "source": [
    "x = 22**6\n",
    "start = time.time()\n",
    "result = funzione_normale(x)\n",
    "end = time.time()\n",
    "print(f\"Risultato: {result}, Tempo di esecuzione: {end - start:.5f} secondi\")"
   ]
  },
  {
   "cell_type": "markdown",
   "metadata": {},
   "source": [
    "### 5. Ottimizzazione della Funzione con `jit`\n",
    "\n",
    "- Applicare `jit` alla funzione."
   ]
  },
  {
   "cell_type": "code",
   "execution_count": 5,
   "metadata": {},
   "outputs": [],
   "source": [
    "@jit\n",
    "def funzione_jit(x):\n",
    "    somma = 0\n",
    "    for i in range(x):\n",
    "        somma += i ** 2\n",
    "    return somma"
   ]
  },
  {
   "cell_type": "markdown",
   "metadata": {},
   "source": [
    "- Testare la funzione ottimizzata."
   ]
  },
  {
   "cell_type": "code",
   "execution_count": 6,
   "metadata": {},
   "outputs": [
    {
     "name": "stdout",
     "output_type": "stream",
     "text": [
      "Risultato: 1082979246085579872, Tempo di esecuzione con jit: 0.49979 secondi\n"
     ]
    }
   ],
   "source": [
    "start = time.time()\n",
    "result = funzione_jit(x)\n",
    "end = time.time()\n",
    "print(f\"Risultato: {result}, Tempo di esecuzione con jit: {end - start:.5f} secondi\")"
   ]
  },
  {
   "cell_type": "markdown",
   "metadata": {},
   "source": [
    "### 6. Utilizzo di `njit` (No Python Mode)\n",
    "\n",
    "- Applicare `njit` alla funzione per ulteriore ottimizzazione."
   ]
  },
  {
   "cell_type": "code",
   "execution_count": 7,
   "metadata": {},
   "outputs": [],
   "source": [
    "@njit\n",
    "def funzione_njit(x):\n",
    "    somma = 0\n",
    "    for i in range(x):\n",
    "        somma += i ** 2\n",
    "    return somma"
   ]
  },
  {
   "cell_type": "markdown",
   "metadata": {},
   "source": [
    "- Testare la funzione ottimizzata con njit."
   ]
  },
  {
   "cell_type": "code",
   "execution_count": 8,
   "metadata": {},
   "outputs": [
    {
     "name": "stdout",
     "output_type": "stream",
     "text": [
      "Risultato: 1082979246085579872, Tempo di esecuzione con njit: 0.13450 secondi\n"
     ]
    }
   ],
   "source": [
    "start = time.time()\n",
    "result = funzione_njit(x)\n",
    "end = time.time()\n",
    "print(f\"Risultato: {result}, Tempo di esecuzione con njit: {end - start:.5f} secondi\")"
   ]
  },
  {
   "cell_type": "markdown",
   "metadata": {},
   "source": [
    "### 7. Conclusione\n",
    "\n",
    "- Discussione dei vantaggi di `Numba` e differenze tra `jit` e `njit`.\n",
    "- Esempi di utilizzo tipici (operazioni matematiche complesse, cicli pesanti, ecc.)."
   ]
  }
 ],
 "metadata": {
  "kernelspec": {
   "display_name": "Python 3",
   "language": "python",
   "name": "python3"
  },
  "language_info": {
   "codemirror_mode": {
    "name": "ipython",
    "version": 3
   },
   "file_extension": ".py",
   "mimetype": "text/x-python",
   "name": "python",
   "nbconvert_exporter": "python",
   "pygments_lexer": "ipython3",
   "version": "3.12.6"
  }
 },
 "nbformat": 4,
 "nbformat_minor": 2
}
